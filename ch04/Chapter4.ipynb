{
 "cells": [
  {
   "metadata": {
    "collapsed": true,
    "ExecuteTime": {
     "end_time": "2025-03-30T02:41:07.803039Z",
     "start_time": "2025-03-30T02:41:07.740752Z"
    }
   },
   "cell_type": "code",
   "source": [
    "from turtledemo.minimal_hanoi import Tower\n",
    "\n",
    "import numpy as np\n",
    "\n",
    "from ch03.Chapter3 import accuracy_cnt\n",
    "\n",
    "\n",
    "# 오차 제곱합\n",
    "def sum_squares_error(y, t):\n",
    "    return 0.5 * np.sum((y - t) ** 2)\n",
    "\n",
    "\n",
    "t = [0, 0, 1, 0, 0, 0, 0, 0, 0, 0]\n",
    "y = [0.1, 0.05, 0.6, 0.0, 0.05, 0.1, 0.0, 0.1, 0.0, 0.0]\n",
    "\n",
    "sum_squares_error(np.array(y), np.array(t))"
   ],
   "id": "initial_id",
   "outputs": [
    {
     "data": {
      "text/plain": [
       "np.float64(0.09750000000000003)"
      ]
     },
     "execution_count": 1,
     "metadata": {},
     "output_type": "execute_result"
    }
   ],
   "execution_count": 1
  },
  {
   "metadata": {
    "ExecuteTime": {
     "end_time": "2025-03-30T02:41:07.896716Z",
     "start_time": "2025-03-30T02:41:07.841993Z"
    }
   },
   "cell_type": "code",
   "source": [
    "def cross_entropy_error(y, t):\n",
    "    delta = 1e-7\n",
    "    return -np.sum(t * np.log(y + delta))\n",
    "\n",
    "\n",
    "t = [0, 0, 1, 0, 0, 0, 0, 0, 0, 0]\n",
    "y = [0.1, 0.05, 0.6, 0.0, 0.05, 0.1, 0.0, 0.1, 0.0, 0.0]\n",
    "\n",
    "cross_entropy_error(np.array(y), np.array(t))"
   ],
   "id": "c2ff996559702411",
   "outputs": [
    {
     "data": {
      "text/plain": [
       "np.float64(0.510825457099338)"
      ]
     },
     "execution_count": 2,
     "metadata": {},
     "output_type": "execute_result"
    }
   ],
   "execution_count": 2
  },
  {
   "metadata": {
    "ExecuteTime": {
     "end_time": "2025-03-30T02:41:08.045952Z",
     "start_time": "2025-03-30T02:41:07.978573Z"
    }
   },
   "cell_type": "code",
   "source": [
    "# 미니 배치 학습\n",
    "import numpy as np\n",
    "import sys, os\n",
    "\n",
    "sys.path.append(os.pardir)\n",
    "from dataset.mnist import load_mnist\n",
    "\n",
    "(x_train, t_train), (x_test, t_test) = load_mnist(normalize=True, one_hot_label=True)\n",
    "\n",
    "print(x_train.shape)\n",
    "print(t_train.shape)\n",
    "\n",
    "train_size = x_train.shape[0]\n",
    "batch_size = 10\n",
    "batch_mask = np.random.choice(train_size, batch_size)\n",
    "\n",
    "x_batch = x_train[batch_mask]\n",
    "t_batch = t_train[batch_mask]\n",
    "\n",
    "\n",
    "# one hot encoding cross entropy error function\n",
    "def cross_entropy_error(y, t):\n",
    "    if y.ndim == 1:\n",
    "        t = t.reshape(1, t.size)\n",
    "        y = y.reshape(1, y.size)\n",
    "    batch_size = t.shape[0]\n",
    "    return -np.sum(t * np.log(y + 1e-7)) / batch_size\n"
   ],
   "id": "5d9867cca54ee208",
   "outputs": [
    {
     "name": "stdout",
     "output_type": "stream",
     "text": [
      "(60000, 784)\n",
      "(60000, 10)\n"
     ]
    }
   ],
   "execution_count": 3
  },
  {
   "metadata": {},
   "cell_type": "markdown",
   "source": "",
   "id": "f7fcfb4a34de71b6"
  },
  {
   "metadata": {},
   "cell_type": "markdown",
   "source": [
    "질문 : 왜 손실 함수를 설정하는가? <br>\n",
    "대답 : 학습된 모델의 정확도를 파악할 수 있는 지표가 필요한데 그 기준이 되는 매개변수를 찾기 위함이다"
   ],
   "id": "93dcf7f7d873e581"
  },
  {
   "metadata": {
    "ExecuteTime": {
     "end_time": "2025-03-30T02:41:08.281696Z",
     "start_time": "2025-03-30T02:41:08.058847Z"
    }
   },
   "cell_type": "code",
   "source": [
    "## 미분 함수 구현\n",
    "import matplotlib.pyplot as plt\n",
    "\n",
    "\n",
    "def numerical_diff(f, x):\n",
    "    h = 1e-4  # 0.0001\n",
    "    return (f(x + h) - f(x - h)) / (2 * h)\n",
    "\n",
    "\n",
    "# 특정 함수 f(x) = 0.01*x^2 + 0.1*x\n",
    "def function_1(x):\n",
    "    return 0.01 * x ** 2 + 0.1 * x\n",
    "\n",
    "\n",
    "def draw(function, x):\n",
    "    y = function(x)\n",
    "    plt.xlabel('x')\n",
    "    plt.ylabel('y')\n",
    "    plt.plot(x, y)\n",
    "    plt.show()\n",
    "\n",
    "\n",
    "x = np.arange(0.0, 20.0, 0.1)\n",
    "\n",
    "draw(function_1, x)"
   ],
   "id": "3d25d3c89fb17574",
   "outputs": [
    {
     "data": {
      "text/plain": [
       "<Figure size 640x480 with 1 Axes>"
      ],
      "image/png": "[encoded data removed]"
     },
     "metadata": {},
     "output_type": "display_data"
    }
   ],
   "execution_count": 4
  },
  {
   "metadata": {
    "ExecuteTime": {
     "end_time": "2025-03-30T02:41:08.289784Z",
     "start_time": "2025-03-30T02:41:08.287481Z"
    }
   },
   "cell_type": "code",
   "source": [
    "a = numerical_diff(function_1, 5)\n",
    "b = numerical_diff(function_1, 10)\n",
    "\n",
    "print(a, b)"
   ],
   "id": "c9de7ed2ab679ce5",
   "outputs": [
    {
     "name": "stdout",
     "output_type": "stream",
     "text": [
      "0.1999999999990898 0.2999999999986347\n"
     ]
    }
   ],
   "execution_count": 5
  },
  {
   "metadata": {
    "ExecuteTime": {
     "end_time": "2025-03-30T02:41:08.307454Z",
     "start_time": "2025-03-30T02:41:08.303078Z"
    }
   },
   "cell_type": "code",
   "source": [
    "from typing import Callable\n",
    "\n",
    "\n",
    "# 편미분 함수\n",
    "\n",
    "def function_2(x):\n",
    "    return x[0] ** 2 + x[1] ** 2\n",
    "\n",
    "\n",
    "def numerical_gradient(f: Callable[[np.ndarray], np.ndarray], x: np.ndarray):\n",
    "    h = 1e-4\n",
    "    grad = np.zeros_like(x)\n",
    "\n",
    "    for idx in range(x.size):\n",
    "        tmp = x[idx]\n",
    "\n",
    "        x[idx] = tmp + h\n",
    "        fxh1 = f(x)\n",
    "\n",
    "        x[idx] = tmp - h\n",
    "        fxh2 = f(x)\n",
    "\n",
    "        grad[idx] = (fxh1 - fxh2) / (2 * h)\n",
    "        x[idx] = tmp  # 값 복원\n",
    "    return grad\n",
    "\n",
    "\n",
    "a = numerical_gradient(function_2, np.array([3.0, 4.0]))\n",
    "b = numerical_gradient(function_2, np.array([0.0, 2.0]))\n",
    "c = numerical_gradient(function_2, np.array([3.0, 0.0]))\n",
    "\n",
    "print(a, b, c)"
   ],
   "id": "ba953d7a8a8662d4",
   "outputs": [
    {
     "name": "stdout",
     "output_type": "stream",
     "text": [
      "[6. 8.] [0. 4.] [6. 0.]\n"
     ]
    }
   ],
   "execution_count": 6
  },
  {
   "metadata": {
    "ExecuteTime": {
     "end_time": "2025-03-30T03:11:47.461153Z",
     "start_time": "2025-03-30T03:11:47.428530Z"
    }
   },
   "cell_type": "code",
   "source": [
    "# 경사 하강법\n",
    "def gradient_descent(f, init_x, lr=0.01, step_num=100):\n",
    "    x = init_x\n",
    "    x_history = []\n",
    "    for i in range(step_num):\n",
    "        x_history.append(x.copy())\n",
    "        grad = numerical_gradient(f, x)\n",
    "        x -= lr * grad\n",
    "    return x, np.array(x_history)\n",
    "\n",
    "\n",
    "def function_2(x):\n",
    "    return x[0] ** 2 + x[1] ** 2\n",
    "\n",
    "\n",
    "init_x = np.array([-3.0, 4.0])\n",
    "\n",
    "lr = 0.1\n",
    "step_num = 30\n",
    "x, x_history = gradient_descent(function_2, init_x, lr=lr, step_num=step_num)\n",
    "\n",
    "plt.plot([-5, 5], [0, 0], '--b')\n",
    "plt.plot([0, 0], [-5, 5], '--b')\n",
    "plt.plot(x_history[:, 0], x_history[:, 1], 'o')\n",
    "\n",
    "plt.xlim(-3.5, 3.5)\n",
    "plt.ylim(-4.5, 4.5)\n",
    "plt.xlabel(\"X0\")\n",
    "plt.ylabel(\"X1\")\n",
    "plt.show()"
   ],
   "id": "aa4e79e670a7f769",
   "outputs": [
    {
     "data": {
      "text/plain": [
       "<Figure size 640x480 with 1 Axes>"
      ],
      "image/png": "[encoded data removed]"
     },
     "metadata": {},
     "output_type": "display_data"
    }
   ],
   "execution_count": 20
  },
  {
   "metadata": {
    "ExecuteTime": {
     "end_time": "2025-03-30T03:32:47.973536Z",
     "start_time": "2025-03-30T03:32:47.968142Z"
    }
   },
   "cell_type": "code",
   "source": [
    "# 신경망에서 기울기\n",
    "import sys, os\n",
    "\n",
    "sys.path.append(os.pardir)\n",
    "import numpy as np\n",
    "from common.functions import softmax, cross_entropy_error\n",
    "from common.gradient import numerical_gradient\n",
    "\n",
    "\n",
    "class simpleNet:\n",
    "    def __init__(self):\n",
    "        self.W = np.random.randn(2, 3)\n",
    "\n",
    "    def predict(self, x):\n",
    "        return np.dot(x, self.W)\n",
    "\n",
    "    def loss(self, x, t):\n",
    "        z = self.predict(x)\n",
    "        y = softmax(z)\n",
    "        loss = cross_entropy_error(y, t)\n",
    "        return loss\n",
    "\n",
    "\n",
    "net = simpleNet()\n",
    "print(net.W)\n",
    "\n",
    "x = np.array([0.6, 0.9])\n",
    "p = net.predict(x)\n",
    "print(f\"predict : {p}\")\n",
    "\n",
    "print(f\"max value index : {np.argmax(p)}\")\n",
    "t = np.array([0, 0, 1])\n",
    "net.loss(x, t)\n",
    "\n",
    "f = lambda W: net.loss(x, t)\n",
    "\n",
    "dw = numerical_gradient(f, net.W)\n",
    "\n",
    "print(f\"down gradient : {dw}\")\n"
   ],
   "id": "feef135ddf971b20",
   "outputs": [
    {
     "name": "stdout",
     "output_type": "stream",
     "text": [
      "[[ 0.27641772 -0.51547322 -1.65277203]\n",
      " [ 0.42487011  0.53207106  0.27357001]]\n",
      "predict : [ 0.54823373  0.16958002 -0.74545021]\n",
      "max value index : 0\n",
      "down gradient : [[ 0.30627204  0.2097298  -0.51600184]\n",
      " [ 0.45940806  0.3145947  -0.77400276]]\n"
     ]
    }
   ],
   "execution_count": 34
  },
  {
   "metadata": {
    "ExecuteTime": {
     "end_time": "2025-03-30T03:48:33.182214Z",
     "start_time": "2025-03-30T03:48:33.173657Z"
    }
   },
   "cell_type": "code",
   "source": [
    "# 2층 신경망 구현\n",
    "import sys, os\n",
    "\n",
    "sys.path.append(os.pardir)\n",
    "import numpy as np\n",
    "from common.functions import *\n",
    "from common.gradient import numerical_gradient\n",
    "\n",
    "\n",
    "class TwoLayerNet:\n",
    "    def __init__(self, input_size, hidden_size, output_size, weight_init_std=0.01):\n",
    "        self.params = {\n",
    "            'W1': weight_init_std * np.random.randn(input_size, hidden_size),\n",
    "            'b1': np.zeros(hidden_size),\n",
    "            'W2': weight_init_std * np.random.randn(hidden_size, output_size),\n",
    "            'b2': np.zeros(output_size)\n",
    "        }\n",
    "\n",
    "    def predict(self, x):\n",
    "        w1, w2 = self.params['W1'], self.params['W2']\n",
    "        b1, b2 = self.params['b1'], self.params['b2']\n",
    "        a1 = np.dot(x, w1) + b1  # 1층\n",
    "        z1 = sigmoid(a1)\n",
    "        a2 = np.dot(z1, w2) + b2  # 2층\n",
    "        y = softmax(a2)\n",
    "        return y\n",
    "\n",
    "    def loss(self, x, t):\n",
    "        y = self.predict(x)\n",
    "        return cross_entropy_error(y, t)\n",
    "\n",
    "    def accuracy(self, x, t):\n",
    "        y = self.predict(x)\n",
    "        y = np.argmax(y, axis=1)  # 예측 결과들\n",
    "        t = np.argmax(t, axis=1)  # 테스트 결과들\n",
    "        accuracy = np.sum(y == t) / float(x.shape[0])\n",
    "        return accuracy\n",
    "\n",
    "    def numerical_gradient(self, x, t):\n",
    "        loss_w = lambda _: self.loss(x, t)\n",
    "\n",
    "        # 결국 가중치를 학습시키기 위해서 이기 때문에 경사하강법으로 가중치를 변경하는 작업이 필요하다\n",
    "        grads = {\n",
    "            'W1': numerical_gradient(loss_w, self.params['W1']),\n",
    "            'b1': numerical_gradient(loss_w, self.params['b1']),\n",
    "            'W2': numerical_gradient(loss_w, self.params['W2']),\n",
    "            'b2': numerical_gradient(loss_w, self.params['b2']),\n",
    "        }\n",
    "        return grads\n",
    "\n",
    "\n",
    "net = TwoLayerNet(input_size=28 * 28, hidden_size=100, output_size=10)\n",
    "\n",
    "print(net.params['W1'].shape)\n",
    "print(net.params['b1'].shape)\n",
    "print(net.params['W2'].shape)\n",
    "print(net.params['b2'].shape)"
   ],
   "id": "32cf85b8d93725ab",
   "outputs": [
    {
     "name": "stdout",
     "output_type": "stream",
     "text": [
      "(784, 100)\n",
      "(100,)\n",
      "(100, 10)\n",
      "(10,)\n"
     ]
    }
   ],
   "execution_count": 35
  },
  {
   "metadata": {
    "ExecuteTime": {
     "end_time": "2025-03-30T03:57:57.057737Z",
     "start_time": "2025-03-30T03:56:05.376403Z"
    }
   },
   "cell_type": "code",
   "source": [
    "# 미니배치 학습 구현하기\n",
    "import numpy as np\n",
    "from dataset.mnist import  load_mnist\n",
    "from tqdm import tqdm\n",
    "\n",
    "(x_train, t_train), (x_test, t_test) = load_mnist(normalize=True, one_hot_label=True)\n",
    "train_loss_list = []\n",
    "\n",
    "iters_num = 10000\n",
    "train_size = x_train.shape[0]\n",
    "batch_size = 100\n",
    "learning_rate = 0.1\n",
    "\n",
    "network = TwoLayerNet(input_size=28 * 28, hidden_size=50, output_size=10)\n",
    "\n",
    "for i in tqdm(range(iters_num)):\n",
    "    # 랜덤 배치 마스크 생성\n",
    "    batch_mask = np.random.choice(train_size, batch_size)\n",
    "    x_batch = x_train[batch_mask]\n",
    "    t_batch = t_train[batch_mask]\n",
    "\n",
    "    # 편향된 가중치 구하기\n",
    "    grad = network.numerical_gradient(x_batch, t_batch)\n",
    "\n",
    "    # 편향된 가중치 제거\n",
    "    for key in ('W1', 'b1', 'W2', 'b2'):\n",
    "        network.params[key] -= learning_rate * grad[key]\n",
    "\n",
    "    # 손실 함수 구하기\n",
    "    loss = network.loss(x_train, t_train)\n",
    "    train_loss_list.append(loss)\n",
    "\n",
    "# print(train_loss_list)\n",
    "x = np.arange(len(train_loss_list))\n",
    "plt.plot(x, train_loss_list)\n",
    "plt.xlabel(\"iteration\")\n",
    "plt.ylabel(\"loss\")\n",
    "plt.ylim(0, 9)\n",
    "plt.xlim(0, 10000)\n",
    "plt.show()\n"
   ],
   "id": "b6bf937829382c60",
   "outputs": [
    {
     "name": "stderr",
     "output_type": "stream",
     "text": [
      "  0%|          | 3/10000 [01:51<103:16:52, 37.19s/it]\n"
     ]
    },
    {
     "ename": "KeyboardInterrupt",
     "evalue": "",
     "output_type": "error",
     "traceback": [
      "\u001B[0;31m---------------------------------------------------------------------------\u001B[0m",
      "\u001B[0;31mKeyboardInterrupt\u001B[0m                         Traceback (most recent call last)",
      "Cell \u001B[0;32mIn[38], line 23\u001B[0m\n\u001B[1;32m     20\u001B[0m t_batch \u001B[38;5;241m=\u001B[39m t_train[batch_mask]\n\u001B[1;32m     22\u001B[0m \u001B[38;5;66;03m# 편향된 가중치 구하기\u001B[39;00m\n\u001B[0;32m---> 23\u001B[0m grad \u001B[38;5;241m=\u001B[39m network\u001B[38;5;241m.\u001B[39mnumerical_gradient(x_batch, t_batch)\n\u001B[1;32m     25\u001B[0m \u001B[38;5;66;03m# 편향된 가중치 제거\u001B[39;00m\n\u001B[1;32m     26\u001B[0m \u001B[38;5;28;01mfor\u001B[39;00m key \u001B[38;5;129;01min\u001B[39;00m (\u001B[38;5;124m'\u001B[39m\u001B[38;5;124mW1\u001B[39m\u001B[38;5;124m'\u001B[39m, \u001B[38;5;124m'\u001B[39m\u001B[38;5;124mb1\u001B[39m\u001B[38;5;124m'\u001B[39m, \u001B[38;5;124m'\u001B[39m\u001B[38;5;124mW2\u001B[39m\u001B[38;5;124m'\u001B[39m, \u001B[38;5;124m'\u001B[39m\u001B[38;5;124mb2\u001B[39m\u001B[38;5;124m'\u001B[39m):\n",
      "Cell \u001B[0;32mIn[35], line 44\u001B[0m, in \u001B[0;36mTwoLayerNet.numerical_gradient\u001B[0;34m(self, x, t)\u001B[0m\n\u001B[1;32m     40\u001B[0m loss_w \u001B[38;5;241m=\u001B[39m \u001B[38;5;28;01mlambda\u001B[39;00m _: \u001B[38;5;28mself\u001B[39m\u001B[38;5;241m.\u001B[39mloss(x, t)\n\u001B[1;32m     42\u001B[0m \u001B[38;5;66;03m# 결국 가중치를 학습시키기 위해서 이기 때문에 경사하강법으로 가중치를 변경하는 작업이 필요하다\u001B[39;00m\n\u001B[1;32m     43\u001B[0m grads \u001B[38;5;241m=\u001B[39m {\n\u001B[0;32m---> 44\u001B[0m     \u001B[38;5;124m'\u001B[39m\u001B[38;5;124mW1\u001B[39m\u001B[38;5;124m'\u001B[39m: numerical_gradient(loss_w, \u001B[38;5;28mself\u001B[39m\u001B[38;5;241m.\u001B[39mparams[\u001B[38;5;124m'\u001B[39m\u001B[38;5;124mW1\u001B[39m\u001B[38;5;124m'\u001B[39m]),\n\u001B[1;32m     45\u001B[0m     \u001B[38;5;124m'\u001B[39m\u001B[38;5;124mb1\u001B[39m\u001B[38;5;124m'\u001B[39m: numerical_gradient(loss_w, \u001B[38;5;28mself\u001B[39m\u001B[38;5;241m.\u001B[39mparams[\u001B[38;5;124m'\u001B[39m\u001B[38;5;124mb1\u001B[39m\u001B[38;5;124m'\u001B[39m]),\n\u001B[1;32m     46\u001B[0m     \u001B[38;5;124m'\u001B[39m\u001B[38;5;124mW2\u001B[39m\u001B[38;5;124m'\u001B[39m: numerical_gradient(loss_w, \u001B[38;5;28mself\u001B[39m\u001B[38;5;241m.\u001B[39mparams[\u001B[38;5;124m'\u001B[39m\u001B[38;5;124mW2\u001B[39m\u001B[38;5;124m'\u001B[39m]),\n\u001B[1;32m     47\u001B[0m     \u001B[38;5;124m'\u001B[39m\u001B[38;5;124mb2\u001B[39m\u001B[38;5;124m'\u001B[39m: numerical_gradient(loss_w, \u001B[38;5;28mself\u001B[39m\u001B[38;5;241m.\u001B[39mparams[\u001B[38;5;124m'\u001B[39m\u001B[38;5;124mb2\u001B[39m\u001B[38;5;124m'\u001B[39m]),\n\u001B[1;32m     48\u001B[0m }\n\u001B[1;32m     49\u001B[0m \u001B[38;5;28;01mreturn\u001B[39;00m grads\n",
      "File \u001B[0;32m~/PycharmProjects/JupyterProject/common/gradient.py:46\u001B[0m, in \u001B[0;36mnumerical_gradient\u001B[0;34m(f, x)\u001B[0m\n\u001B[1;32m     43\u001B[0m fxh1 \u001B[38;5;241m=\u001B[39m f(x) \u001B[38;5;66;03m# f(x+h)\u001B[39;00m\n\u001B[1;32m     45\u001B[0m x[idx] \u001B[38;5;241m=\u001B[39m tmp_val \u001B[38;5;241m-\u001B[39m h \n\u001B[0;32m---> 46\u001B[0m fxh2 \u001B[38;5;241m=\u001B[39m f(x) \u001B[38;5;66;03m# f(x-h)\u001B[39;00m\n\u001B[1;32m     47\u001B[0m grad[idx] \u001B[38;5;241m=\u001B[39m (fxh1 \u001B[38;5;241m-\u001B[39m fxh2) \u001B[38;5;241m/\u001B[39m (\u001B[38;5;241m2\u001B[39m\u001B[38;5;241m*\u001B[39mh)\n\u001B[1;32m     49\u001B[0m x[idx] \u001B[38;5;241m=\u001B[39m tmp_val \u001B[38;5;66;03m# 값 복원\u001B[39;00m\n",
      "Cell \u001B[0;32mIn[35], line 40\u001B[0m, in \u001B[0;36mTwoLayerNet.numerical_gradient.<locals>.<lambda>\u001B[0;34m(_)\u001B[0m\n\u001B[1;32m     39\u001B[0m \u001B[38;5;28;01mdef\u001B[39;00m \u001B[38;5;21mnumerical_gradient\u001B[39m(\u001B[38;5;28mself\u001B[39m, x, t):\n\u001B[0;32m---> 40\u001B[0m     loss_w \u001B[38;5;241m=\u001B[39m \u001B[38;5;28;01mlambda\u001B[39;00m _: \u001B[38;5;28mself\u001B[39m\u001B[38;5;241m.\u001B[39mloss(x, t)\n\u001B[1;32m     42\u001B[0m     \u001B[38;5;66;03m# 결국 가중치를 학습시키기 위해서 이기 때문에 경사하강법으로 가중치를 변경하는 작업이 필요하다\u001B[39;00m\n\u001B[1;32m     43\u001B[0m     grads \u001B[38;5;241m=\u001B[39m {\n\u001B[1;32m     44\u001B[0m         \u001B[38;5;124m'\u001B[39m\u001B[38;5;124mW1\u001B[39m\u001B[38;5;124m'\u001B[39m: numerical_gradient(loss_w, \u001B[38;5;28mself\u001B[39m\u001B[38;5;241m.\u001B[39mparams[\u001B[38;5;124m'\u001B[39m\u001B[38;5;124mW1\u001B[39m\u001B[38;5;124m'\u001B[39m]),\n\u001B[1;32m     45\u001B[0m         \u001B[38;5;124m'\u001B[39m\u001B[38;5;124mb1\u001B[39m\u001B[38;5;124m'\u001B[39m: numerical_gradient(loss_w, \u001B[38;5;28mself\u001B[39m\u001B[38;5;241m.\u001B[39mparams[\u001B[38;5;124m'\u001B[39m\u001B[38;5;124mb1\u001B[39m\u001B[38;5;124m'\u001B[39m]),\n\u001B[1;32m     46\u001B[0m         \u001B[38;5;124m'\u001B[39m\u001B[38;5;124mW2\u001B[39m\u001B[38;5;124m'\u001B[39m: numerical_gradient(loss_w, \u001B[38;5;28mself\u001B[39m\u001B[38;5;241m.\u001B[39mparams[\u001B[38;5;124m'\u001B[39m\u001B[38;5;124mW2\u001B[39m\u001B[38;5;124m'\u001B[39m]),\n\u001B[1;32m     47\u001B[0m         \u001B[38;5;124m'\u001B[39m\u001B[38;5;124mb2\u001B[39m\u001B[38;5;124m'\u001B[39m: numerical_gradient(loss_w, \u001B[38;5;28mself\u001B[39m\u001B[38;5;241m.\u001B[39mparams[\u001B[38;5;124m'\u001B[39m\u001B[38;5;124mb2\u001B[39m\u001B[38;5;124m'\u001B[39m]),\n\u001B[1;32m     48\u001B[0m     }\n",
      "Cell \u001B[0;32mIn[35], line 29\u001B[0m, in \u001B[0;36mTwoLayerNet.loss\u001B[0;34m(self, x, t)\u001B[0m\n\u001B[1;32m     28\u001B[0m \u001B[38;5;28;01mdef\u001B[39;00m \u001B[38;5;21mloss\u001B[39m(\u001B[38;5;28mself\u001B[39m, x, t):\n\u001B[0;32m---> 29\u001B[0m     y \u001B[38;5;241m=\u001B[39m \u001B[38;5;28mself\u001B[39m\u001B[38;5;241m.\u001B[39mpredict(x)\n\u001B[1;32m     30\u001B[0m     \u001B[38;5;28;01mreturn\u001B[39;00m cross_entropy_error(y, t)\n",
      "Cell \u001B[0;32mIn[35], line 22\u001B[0m, in \u001B[0;36mTwoLayerNet.predict\u001B[0;34m(self, x)\u001B[0m\n\u001B[1;32m     20\u001B[0m w1, w2 \u001B[38;5;241m=\u001B[39m \u001B[38;5;28mself\u001B[39m\u001B[38;5;241m.\u001B[39mparams[\u001B[38;5;124m'\u001B[39m\u001B[38;5;124mW1\u001B[39m\u001B[38;5;124m'\u001B[39m], \u001B[38;5;28mself\u001B[39m\u001B[38;5;241m.\u001B[39mparams[\u001B[38;5;124m'\u001B[39m\u001B[38;5;124mW2\u001B[39m\u001B[38;5;124m'\u001B[39m]\n\u001B[1;32m     21\u001B[0m b1, b2 \u001B[38;5;241m=\u001B[39m \u001B[38;5;28mself\u001B[39m\u001B[38;5;241m.\u001B[39mparams[\u001B[38;5;124m'\u001B[39m\u001B[38;5;124mb1\u001B[39m\u001B[38;5;124m'\u001B[39m], \u001B[38;5;28mself\u001B[39m\u001B[38;5;241m.\u001B[39mparams[\u001B[38;5;124m'\u001B[39m\u001B[38;5;124mb2\u001B[39m\u001B[38;5;124m'\u001B[39m]\n\u001B[0;32m---> 22\u001B[0m a1 \u001B[38;5;241m=\u001B[39m np\u001B[38;5;241m.\u001B[39mdot(x, w1) \u001B[38;5;241m+\u001B[39m b1  \u001B[38;5;66;03m# 1층\u001B[39;00m\n\u001B[1;32m     23\u001B[0m z1 \u001B[38;5;241m=\u001B[39m sigmoid(a1)\n\u001B[1;32m     24\u001B[0m a2 \u001B[38;5;241m=\u001B[39m np\u001B[38;5;241m.\u001B[39mdot(z1, w2) \u001B[38;5;241m+\u001B[39m b2  \u001B[38;5;66;03m# 2층\u001B[39;00m\n",
      "\u001B[0;31mKeyboardInterrupt\u001B[0m: "
     ]
    }
   ],
   "execution_count": 38
  }
 ],
 "metadata": {
  "kernelspec": {
   "display_name": "Python 3",
   "language": "python",
   "name": "python3"
  },
  "language_info": {
   "codemirror_mode": {
    "name": "ipython",
    "version": 2
   },
   "file_extension": ".py",
   "mimetype": "text/x-python",
   "name": "python",
   "nbconvert_exporter": "python",
   "pygments_lexer": "ipython2",
   "version": "2.7.6"
  }
 },
 "nbformat": 4,
 "nbformat_minor": 5
}
