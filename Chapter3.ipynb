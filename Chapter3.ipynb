{
 "cells": [
  {
   "cell_type": "code",
   "id": "initial_id",
   "metadata": {
    "collapsed": true,
    "ExecuteTime": {
     "end_time": "2025-03-29T02:00:28.391506Z",
     "start_time": "2025-03-29T02:00:28.388331Z"
    }
   },
   "source": [
    "import numpy as np\n",
    "import matplotlib.pyplot as plt"
   ],
   "outputs": [],
   "execution_count": 14
  },
  {
   "metadata": {
    "ExecuteTime": {
     "end_time": "2025-03-29T02:00:28.402722Z",
     "start_time": "2025-03-29T02:00:28.400808Z"
    }
   },
   "cell_type": "code",
   "source": "",
   "id": "2ced0ab8cb030c83",
   "outputs": [],
   "execution_count": null
  },
  {
   "metadata": {
    "ExecuteTime": {
     "end_time": "2025-03-29T02:00:28.415099Z",
     "start_time": "2025-03-29T02:00:28.409283Z"
    }
   },
   "cell_type": "code",
   "source": [
    "# 3층 신경망 구현하기\n",
    "def sigmoid(x):\n",
    "    return 1 / (1 + np.exp(-x))\n",
    "\n",
    "\n",
    "def identity(x):\n",
    "    return x\n",
    "\n",
    "\n",
    "X = np.array([1.0, 0.5])\n",
    "W1 = np.array([[0.1, 0.3, 0.5], [0.2, 0.4, 0.6]])\n",
    "B1 = np.array([0.1, 0.2, 0.3])\n",
    "\n",
    "# 단순 행렬 모양 출력\n",
    "print(W1.shape)\n",
    "print(X.shape)\n",
    "print(B1.shape)\n",
    "\n",
    "# 행렬 곱 연산\n",
    "A1 = np.dot(X, W1) + B1\n",
    "print(A1.shape)\n",
    "print(A1)\n",
    "\n",
    "# 시그모이드 함수 적용\n",
    "Z1 = sigmoid(A1)\n",
    "\n",
    "print(A1)\n",
    "print(Z1)\n",
    "\n",
    "W2 = np.array([[0.1, 0.4], [0.2, 0.5], [0.3, 0.6]])\n",
    "B2 = np.array([0.1, 0.2])\n",
    "\n",
    "print(Z1.shape)\n",
    "print(W2.shape)\n",
    "print(B2.shape)\n",
    "\n",
    "A2 = np.dot(Z1, W2) + B2\n",
    "Z2 = sigmoid(A2)\n",
    "\n",
    "W3 = np.array([[0.1, 0.3], [0.2, 0.4]])\n",
    "B3 = np.array([0.1, 0.2])\n",
    "A3 = np.dot(Z2, W3) + B3\n",
    "Y = identity(A3)\n",
    "\n",
    "print(A3)"
   ],
   "id": "6999f5b0d8a60895",
   "outputs": [
    {
     "name": "stdout",
     "output_type": "stream",
     "text": [
      "(2, 3)\n",
      "(2,)\n",
      "(3,)\n",
      "(3,)\n",
      "[0.3 0.7 1.1]\n",
      "[0.3 0.7 1.1]\n",
      "[0.57444252 0.66818777 0.75026011]\n",
      "(3,)\n",
      "(3, 2)\n",
      "(2,)\n",
      "[0.31682708 0.69627909]\n"
     ]
    }
   ],
   "execution_count": 15
  },
  {
   "metadata": {
    "ExecuteTime": {
     "end_time": "2025-03-29T02:00:28.427142Z",
     "start_time": "2025-03-29T02:00:28.423609Z"
    }
   },
   "cell_type": "code",
   "source": [
    "def sigmoid(x):\n",
    "    return 1 / (1 + np.exp(-x))\n",
    "\n",
    "\n",
    "def identity(x):\n",
    "    return x\n",
    "\n",
    "\n",
    "def init_network():\n",
    "    network = {\n",
    "        \"W1\": np.array([[0.1, 0.3, 0.5], [0.2, 0.4, 0.6]]),\n",
    "        \"b1\": np.array([0.1, 0.2, 0.3]),\n",
    "        \"W2\": np.array([[0.1, 0.4], [0.2, 0.5], [0.3, 0.6]]),\n",
    "        \"b2\": np.array([0.1, 0.2]),\n",
    "        \"W3\": np.array([[0.1, 0.3], [0.2, 0.4]]),\n",
    "        \"b3\": np.array([0.1, 0.2])\n",
    "    }\n",
    "    return network\n",
    "\n",
    "\n",
    "def forward(network, x):\n",
    "    W1, W2, W3 = network[\"W1\"], network[\"W2\"], network[\"W3\"]\n",
    "    b1, b2, b3 = network[\"b1\"], network[\"b2\"], network[\"b3\"]\n",
    "\n",
    "    a1 = np.dot(x, W1) + b1\n",
    "    z1 = sigmoid(a1)\n",
    "    a2 = np.dot(z1, W2) + b2\n",
    "    z2 = sigmoid(a2)\n",
    "    a3 = np.dot(z2, W3) + b3\n",
    "    y = identity(a3)\n",
    "    return y\n",
    "\n",
    "# 가중치와 편향을 생성\n",
    "network = init_network()\n",
    "x = np.array([1.0, 0.5])\n",
    "# 입력 신호를 출력으로 변환하는 처리 과정 구현\n",
    "y = forward(network, x)\n",
    "print(y)"
   ],
   "id": "9f04effc8ba1991e",
   "outputs": [
    {
     "name": "stdout",
     "output_type": "stream",
     "text": [
      "[0.31682708 0.69627909]\n"
     ]
    }
   ],
   "execution_count": 16
  }
 ],
 "metadata": {
  "kernelspec": {
   "display_name": "Python 3",
   "language": "python",
   "name": "python3"
  },
  "language_info": {
   "codemirror_mode": {
    "name": "ipython",
    "version": 2
   },
   "file_extension": ".py",
   "mimetype": "text/x-python",
   "name": "python",
   "nbconvert_exporter": "python",
   "pygments_lexer": "ipython2",
   "version": "2.7.6"
  }
 },
 "nbformat": 4,
 "nbformat_minor": 5
}
