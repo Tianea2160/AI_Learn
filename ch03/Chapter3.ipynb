{
 "cells": [
  {
   "cell_type": "code",
   "id": "initial_id",
   "metadata": {
    "collapsed": true
   },
   "source": [
    "\n",
    "\n",
    "import numpy as np"
   ],
   "outputs": [],
   "execution_count": null
  },
  {
   "metadata": {},
   "cell_type": "code",
   "source": "",
   "id": "2ced0ab8cb030c83",
   "outputs": [],
   "execution_count": null
  },
  {
   "metadata": {},
   "cell_type": "code",
   "source": [
    "# 3층 신경망 구현하기\n",
    "def sigmoid(x):\n",
    "    return 1 / (1 + np.exp(-x))\n",
    "\n",
    "\n",
    "def identity(x):\n",
    "    return x\n",
    "\n",
    "\n",
    "X = np.array([1.0, 0.5])\n",
    "W1 = np.array([[0.1, 0.3, 0.5], [0.2, 0.4, 0.6]])\n",
    "B1 = np.array([0.1, 0.2, 0.3])\n",
    "\n",
    "# 단순 행렬 모양 출력\n",
    "print(W1.shape)\n",
    "print(X.shape)\n",
    "print(B1.shape)\n",
    "\n",
    "# 행렬 곱 연산\n",
    "A1 = np.dot(X, W1) + B1\n",
    "print(A1.shape)\n",
    "print(A1)\n",
    "\n",
    "# 시그모이드 함수 적용\n",
    "Z1 = sigmoid(A1)\n",
    "\n",
    "print(A1)\n",
    "print(Z1)\n",
    "\n",
    "W2 = np.array([[0.1, 0.4], [0.2, 0.5], [0.3, 0.6]])\n",
    "B2 = np.array([0.1, 0.2])\n",
    "\n",
    "print(Z1.shape)\n",
    "print(W2.shape)\n",
    "print(B2.shape)\n",
    "\n",
    "A2 = np.dot(Z1, W2) + B2\n",
    "Z2 = sigmoid(A2)\n",
    "\n",
    "W3 = np.array([[0.1, 0.3], [0.2, 0.4]])\n",
    "B3 = np.array([0.1, 0.2])\n",
    "A3 = np.dot(Z2, W3) + B3\n",
    "Y = identity(A3)\n",
    "\n",
    "print(A3)"
   ],
   "id": "6999f5b0d8a60895",
   "outputs": [],
   "execution_count": null
  },
  {
   "metadata": {},
   "cell_type": "code",
   "source": [
    "def sigmoid(x):\n",
    "    return 1 / (1 + np.exp(-x))\n",
    "\n",
    "\n",
    "def identity(x):\n",
    "    return x\n",
    "\n",
    "\n",
    "def init_network():\n",
    "    network = {\n",
    "        \"W1\": np.array([[0.1, 0.3, 0.5], [0.2, 0.4, 0.6]]),\n",
    "        \"b1\": np.array([0.1, 0.2, 0.3]),\n",
    "        \"W2\": np.array([[0.1, 0.4], [0.2, 0.5], [0.3, 0.6]]),\n",
    "        \"b2\": np.array([0.1, 0.2]),\n",
    "        \"W3\": np.array([[0.1, 0.3], [0.2, 0.4]]),\n",
    "        \"b3\": np.array([0.1, 0.2])\n",
    "    }\n",
    "    return network\n",
    "\n",
    "\n",
    "def forward(network, x):\n",
    "    W1, W2, W3 = network[\"W1\"], network[\"W2\"], network[\"W3\"]\n",
    "    b1, b2, b3 = network[\"b1\"], network[\"b2\"], network[\"b3\"]\n",
    "\n",
    "    a1 = np.dot(x, W1) + b1\n",
    "    z1 = sigmoid(a1)\n",
    "    a2 = np.dot(z1, W2) + b2\n",
    "    z2 = sigmoid(a2)\n",
    "    a3 = np.dot(z2, W3) + b3\n",
    "    y = identity(a3)\n",
    "    return y\n",
    "\n",
    "\n",
    "# 가중치와 편향을 생성\n",
    "network = init_network()\n",
    "x = np.array([1.0, 0.5])\n",
    "# 입력 신호를 출력으로 변환하는 처리 과정 구현\n",
    "y = forward(network, x)\n",
    "print(y)"
   ],
   "id": "9f04effc8ba1991e",
   "outputs": [],
   "execution_count": null
  },
  {
   "metadata": {},
   "cell_type": "code",
   "source": [
    "# 소프트 맥스 함수 구현\n",
    "# softmax 함수는 배열을 입력 값으로 넣으면 전체 배열을 확률 분포의 형태로 변환해주고 확률분포의 총합을 무조건 1로 만들어준다\n",
    "a = np.array([0.3, 2.9, 4.0])\n",
    "\n",
    "exp_a = np.exp(a)\n",
    "print(exp_a)\n",
    "\n",
    "sum_exp_a = np.sum(exp_a)\n",
    "print(sum_exp_a)\n",
    "\n",
    "y = exp_a / sum_exp_a\n",
    "print(y)\n",
    "\n",
    "\n",
    "def softmax(a):\n",
    "    b = np.max(x)\n",
    "    tmp = np.exp(a - b)\n",
    "    return tmp / np.sum(tmp)\n",
    "\n",
    "\n",
    "print(softmax(a))"
   ],
   "id": "99693e1d43f4ca94",
   "outputs": [],
   "execution_count": null
  },
  {
   "metadata": {
    "ExecuteTime": {
     "end_time": "2025-03-29T06:49:50.567527Z",
     "start_time": "2025-03-29T06:49:50.468217Z"
    }
   },
   "cell_type": "code",
   "source": [
    "# mnist image set base forward propagation\n",
    "import sys, os\n",
    "from dataset.mnist import (load_mnist)\n",
    "import numpy as np\n",
    "from PIL import Image\n",
    "\n",
    "sys.path.append(os.path.curdir)\n",
    "\n",
    "\n",
    "def image_show(image):\n",
    "    pil_image = Image.fromarray(np.uint8(image))\n",
    "    pil_image.show()\n",
    "\n",
    "\n",
    "(x_train, y_train), (x_test, y_test) = load_mnist(flatten=True, normalize=False)\n",
    "\n",
    "print(x_train.shape)\n",
    "print(y_train.shape)\n",
    "print(x_test.shape)\n",
    "print(y_test.shape)\n",
    "\n",
    "image = x_train[0]\n",
    "label = y_train[0]\n",
    "print(label)\n",
    "\n",
    "print(image.shape)\n",
    "image = image.reshape(28, 28)\n",
    "print(image.shape)\n",
    "image_show(image)\n"
   ],
   "id": "cc9f095dabcedd1f",
   "outputs": [
    {
     "name": "stdout",
     "output_type": "stream",
     "text": [
      "(60000, 784)\n",
      "(60000,)\n",
      "(10000, 784)\n",
      "(10000,)\n",
      "5\n",
      "(784,)\n",
      "(28, 28)\n"
     ]
    }
   ],
   "execution_count": 64
  },
  {
   "metadata": {
    "ExecuteTime": {
     "end_time": "2025-03-29T06:50:59.802776Z",
     "start_time": "2025-03-29T06:50:51.472184Z"
    }
   },
   "cell_type": "code",
   "source": [
    "import pickle\n",
    "from pathlib import Path\n",
    "from dataset.mnist import (load_mnist)\n",
    "from tqdm import tqdm\n",
    "\n",
    "current_dir = Path().resolve()\n",
    "sys.path.append(str(current_dir.parent))\n",
    "\n",
    "\n",
    "def get_data():\n",
    "    (x_train, t_train), (x_test, t_test) = load_mnist(flatten=True, normalize=True, one_hot_label=False)\n",
    "    return x_test, t_test\n",
    "\n",
    "\n",
    "def init_network():\n",
    "    with open(\"./ch03/sample_weight.pkl\", \"rb\") as f:\n",
    "        network = pickle.load(f)\n",
    "    return network\n",
    "\n",
    "\n",
    "def predict(network, x):\n",
    "    w1, w2, w3 = network[\"W1\"], network[\"W2\"], network[\"W3\"]\n",
    "    b1, b2, b3 = network[\"b1\"], network[\"b2\"], network[\"b3\"]\n",
    "\n",
    "    a1 = np.dot(x, w1) + b1\n",
    "    z1 = sigmoid(a1)\n",
    "    a2 = np.dot(z1, w2) + b2\n",
    "    z2 = sigmoid(a2)\n",
    "    a3 = np.dot(z2, w3) + b3\n",
    "    return softmax(a3)\n",
    "\n",
    "\n",
    "x, t = get_data()\n",
    "network = init_network()\n",
    "\n",
    "accuracy_cnt = 0\n",
    "for i in tqdm(range(len(x))):\n",
    "    # print(f\"progress : {i}/{len(x)}\")\n",
    "\n",
    "    image = x[i]\n",
    "    expected_label = t[i]\n",
    "\n",
    "    y = predict(network, image)\n",
    "    p = np.argmax(y)\n",
    "    if p == expected_label:\n",
    "        accuracy_cnt += 1\n",
    "print(f\"정확도 : {accuracy_cnt / len(x)}\")\n"
   ],
   "id": "e2ab75d8eb24b586",
   "outputs": [
    {
     "name": "stderr",
     "output_type": "stream",
     "text": [
      "100%|██████████| 10000/10000 [00:08<00:00, 1212.56it/s]"
     ]
    },
    {
     "name": "stdout",
     "output_type": "stream",
     "text": [
      "정확도 : 0.9352\n"
     ]
    },
    {
     "name": "stderr",
     "output_type": "stream",
     "text": [
      "\n"
     ]
    }
   ],
   "execution_count": 67
  }
 ],
 "metadata": {
  "kernelspec": {
   "display_name": "Python 3",
   "language": "python",
   "name": "python3"
  },
  "language_info": {
   "codemirror_mode": {
    "name": "ipython",
    "version": 2
   },
   "file_extension": ".py",
   "mimetype": "text/x-python",
   "name": "python",
   "nbconvert_exporter": "python",
   "pygments_lexer": "ipython2",
   "version": "2.7.6"
  }
 },
 "nbformat": 4,
 "nbformat_minor": 5
}
