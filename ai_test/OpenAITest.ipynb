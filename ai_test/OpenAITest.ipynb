{
 "cells": [
  {
   "cell_type": "code",
   "id": "initial_id",
   "metadata": {
    "collapsed": true,
    "ExecuteTime": {
     "end_time": "2025-04-05T00:12:21.020299Z",
     "start_time": "2025-04-05T00:12:21.015255Z"
    }
   },
   "source": [
    "# .env 파일에서 OPENAI_API_KEY 값 가져오기\n",
    "from dotenv import load_dotenv\n",
    "\n",
    "load_dotenv()"
   ],
   "outputs": [
    {
     "data": {
      "text/plain": [
       "True"
      ]
     },
     "execution_count": 1,
     "metadata": {},
     "output_type": "execute_result"
    }
   ],
   "execution_count": 1
  },
  {
   "metadata": {
    "ExecuteTime": {
     "end_time": "2025-04-05T00:15:18.969726Z",
     "start_time": "2025-04-05T00:15:15.145196Z"
    }
   },
   "cell_type": "code",
   "source": [
    "from langchain_openai import ChatOpenAI\n",
    "from langchain_core.prompts import PromptTemplate\n",
    "\n",
    "llm = ChatOpenAI()\n",
    "template = PromptTemplate.from_template(template=\"{country}은 어느 나라의 수도입니까?\")\n",
    "\n",
    "chain = llm | template\n",
    "\n",
    "chain.invoke(\"서울\")\n"
   ],
   "id": "d90702d29868c20a",
   "outputs": [
    {
     "data": {
      "text/plain": [
       "StringPromptValue(text=\"content='대한민국의 수도이자 국가의 정치, 경제, 문화의 중심지인 서울은 한반도 중앙에 위치하고 있습니다. 인구 밀도가 높고 현대적인 시설과 건물이 많이 위치해 있어서 도심은 혼잡하고 번잡하다고 할 수 있지만, 이런 모습이 서울의 활기찬 매력이기도 합니다. 서울에는 다양한 역사적인 유적지와 문화 시설, 레스토랑, 쇼핑센터, 공원 등이 있어서 관광객들이 방문하기에 좋은 도시입니다. 또한, 대한민국 정부가 소재하고 있어서 정치와 경제에 큰 영향을 끼치는 중요한 도시이기도 합니다.' additional_kwargs={'refusal': None} response_metadata={'token_usage': {'completion_tokens': 254, 'prompt_tokens': 10, 'total_tokens': 264, 'completion_tokens_details': {'accepted_prediction_tokens': 0, 'audio_tokens': 0, 'reasoning_tokens': 0, 'rejected_prediction_tokens': 0}, 'prompt_tokens_details': {'audio_tokens': 0, 'cached_tokens': 0}}, 'model_name': 'gpt-3.5-turbo-0125', 'system_fingerprint': None, 'id': 'chatcmpl-BIlTngZWyRRMcCUeu1vj7YIG21hQF', 'finish_reason': 'stop', 'logprobs': None} id='run-04e2a8eb-5ac2-4102-81aa-b2d60d912391-0' usage_metadata={'input_tokens': 10, 'output_tokens': 254, 'total_tokens': 264, 'input_token_details': {'audio': 0, 'cache_read': 0}, 'output_token_details': {'audio': 0, 'reasoning': 0}}은 어느 나라의 수도입니까?\")"
      ]
     },
     "execution_count": 4,
     "metadata": {},
     "output_type": "execute_result"
    }
   ],
   "execution_count": 4
  },
  {
   "metadata": {
    "ExecuteTime": {
     "end_time": "2025-04-05T00:20:10.698972Z",
     "start_time": "2025-04-05T00:20:10.663266Z"
    }
   },
   "cell_type": "code",
   "source": [
    "# 프롬프트 생성과 동시에 변수값 같이 주기\n",
    "from langchain_openai import ChatOpenAI\n",
    "from langchain_core.prompts import PromptTemplate\n",
    "\n",
    "llm = ChatOpenAI()\n",
    "template = \"{country1}와 {country2}의 수도는 각각 수도가 무엇입니까?\"\n",
    "prompt = PromptTemplate(\n",
    "    template=template,\n",
    "    input_variables=[\"country1\"],\n",
    "    partial_variables={\n",
    "        \"country2\": \"미국\"\n",
    "    }\n",
    ")\n",
    "\n",
    "prompt.format(country1=\"대한민국\")"
   ],
   "id": "3e5614d604e53944",
   "outputs": [
    {
     "data": {
      "text/plain": [
       "'대한민국와 미국의 수도는 각각 수도가 무엇입니까?'"
      ]
     },
     "execution_count": 5,
     "metadata": {},
     "output_type": "execute_result"
    }
   ],
   "execution_count": 5
  },
  {
   "metadata": {
    "ExecuteTime": {
     "end_time": "2025-04-05T00:20:27.632680Z",
     "start_time": "2025-04-05T00:20:27.627752Z"
    }
   },
   "cell_type": "code",
   "source": [
    "prompt_partial = prompt.partial(country2=\"캐나다\")\n",
    "prompt_partial"
   ],
   "id": "4d9ea46af37a1955",
   "outputs": [
    {
     "data": {
      "text/plain": [
       "PromptTemplate(input_variables=['country1'], input_types={}, partial_variables={'country2': '캐나다'}, template='{country1}와 {country2}의 수도는 각각 수도가 무엇입니까?')"
      ]
     },
     "execution_count": 6,
     "metadata": {},
     "output_type": "execute_result"
    }
   ],
   "execution_count": 6
  },
  {
   "metadata": {
    "ExecuteTime": {
     "end_time": "2025-04-05T00:20:43.217640Z",
     "start_time": "2025-04-05T00:20:43.214139Z"
    }
   },
   "cell_type": "code",
   "source": "prompt_partial.format(country1=\"대한민국\")\n",
   "id": "bfd70beeee07246d",
   "outputs": [
    {
     "data": {
      "text/plain": [
       "'대한민국와 캐나다의 수도는 각각 수도가 무엇입니까?'"
      ]
     },
     "execution_count": 7,
     "metadata": {},
     "output_type": "execute_result"
    }
   ],
   "execution_count": 7
  },
  {
   "metadata": {
    "ExecuteTime": {
     "end_time": "2025-04-05T00:21:01.189682Z",
     "start_time": "2025-04-05T00:21:01.186716Z"
    }
   },
   "cell_type": "code",
   "source": "chain = prompt_partial | llm\n",
   "id": "5def1aeb987e2412",
   "outputs": [],
   "execution_count": 8
  },
  {
   "metadata": {
    "ExecuteTime": {
     "end_time": "2025-04-05T00:21:13.875150Z",
     "start_time": "2025-04-05T00:21:12.432646Z"
    }
   },
   "cell_type": "code",
   "source": "chain.invoke(\"대한민국\").content",
   "id": "3d1af3aa2fc2b028",
   "outputs": [
    {
     "data": {
      "text/plain": [
       "'대한민국의 수도는 서울이고 캐나다의 수도는 오타와입니다.'"
      ]
     },
     "execution_count": 9,
     "metadata": {},
     "output_type": "execute_result"
    }
   ],
   "execution_count": 9
  },
  {
   "metadata": {
    "ExecuteTime": {
     "end_time": "2025-04-05T02:55:04.970624Z",
     "start_time": "2025-04-05T02:55:04.965373Z"
    }
   },
   "cell_type": "code",
   "source": [
    "from datetime import datetime\n",
    "\n",
    "def get_today():\n",
    "    return datetime.now().strftime(\"%B %d\")"
   ],
   "id": "52173a23f1971cf9",
   "outputs": [],
   "execution_count": 10
  },
  {
   "metadata": {
    "ExecuteTime": {
     "end_time": "2025-04-05T02:56:09.170388Z",
     "start_time": "2025-04-05T02:56:09.167786Z"
    }
   },
   "cell_type": "code",
   "source": [
    "prompt = PromptTemplate(\n",
    "    template=\"오늘의 날짜는 {today} 입니다. 오늘이 생일인 유명인 {n}명을 나열해 주세요. 생년월일을 표기해주세요.\",\n",
    "    input_variables=[\"n\"],\n",
    "    partial_variables={\n",
    "        \"today\": get_today  # dictionary 형태로 partial_variables를 전달\n",
    "    },\n",
    ")\n"
   ],
   "id": "2fc7c200d6ff138f",
   "outputs": [],
   "execution_count": 13
  },
  {
   "metadata": {
    "ExecuteTime": {
     "end_time": "2025-04-05T02:56:11.890862Z",
     "start_time": "2025-04-05T02:56:11.887666Z"
    }
   },
   "cell_type": "code",
   "source": [
    "# prompt 생성\n",
    "prompt.format(n=3)\n"
   ],
   "id": "adb6ac5b3369860c",
   "outputs": [
    {
     "data": {
      "text/plain": [
       "'오늘의 날짜는 April 05 입니다. 오늘이 생일인 유명인 3명을 나열해 주세요. 생년월일을 표기해주세요.'"
      ]
     },
     "execution_count": 14,
     "metadata": {},
     "output_type": "execute_result"
    }
   ],
   "execution_count": 14
  },
  {
   "metadata": {
    "ExecuteTime": {
     "end_time": "2025-04-05T02:56:25.283635Z",
     "start_time": "2025-04-05T02:56:25.280474Z"
    }
   },
   "cell_type": "code",
   "source": [
    "# chain 을 생성합니다.\n",
    "chain = prompt | llm\n"
   ],
   "id": "cf86e83ad9ae0337",
   "outputs": [],
   "execution_count": 17
  },
  {
   "metadata": {
    "ExecuteTime": {
     "end_time": "2025-04-05T02:56:28.481218Z",
     "start_time": "2025-04-05T02:56:26.270653Z"
    }
   },
   "cell_type": "code",
   "source": [
    "# chain 을 실행 후 결과를 확인합니다.\n",
    "print(chain.invoke(3).content)\n"
   ],
   "id": "f37fa7b4a0f05856",
   "outputs": [
    {
     "name": "stdout",
     "output_type": "stream",
     "text": [
      "1. 세스 로건 (Seth Rogen) - 1982년 4월 15일\n",
      "2. 필립 몰리나 (Philip Selway) - 1967년 5월 23일\n",
      "3. 릴 윤 (Lil Yachty) - 1997년 8월 23일\n"
     ]
    }
   ],
   "execution_count": 18
  },
  {
   "metadata": {},
   "cell_type": "code",
   "outputs": [],
   "execution_count": null,
   "source": "",
   "id": "d31ee8fd617ae7a1"
  }
 ],
 "metadata": {
  "kernelspec": {
   "display_name": "Python 3",
   "language": "python",
   "name": "python3"
  },
  "language_info": {
   "codemirror_mode": {
    "name": "ipython",
    "version": 2
   },
   "file_extension": ".py",
   "mimetype": "text/x-python",
   "name": "python",
   "nbconvert_exporter": "python",
   "pygments_lexer": "ipython2",
   "version": "2.7.6"
  }
 },
 "nbformat": 4,
 "nbformat_minor": 5
}
